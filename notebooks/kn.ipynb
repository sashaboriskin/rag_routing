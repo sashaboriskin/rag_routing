{
 "cells": [
  {
   "cell_type": "code",
   "execution_count": 1,
   "id": "6aa503e9-fc62-4239-b6e2-6187cabd1864",
   "metadata": {},
   "outputs": [],
   "source": [
    "import re\n",
    "import pickle\n",
    "\n",
    "import torch\n",
    "import pandas as pd\n",
    "from tqdm import tqdm\n",
    "from transformers import AutoTokenizer, AutoModelForCausalLM\n",
    "from datasets import load_dataset\n",
    "import matplotlib.pyplot as plt\n",
    "import seaborn as sns\n",
    "\n",
    "from kn import KnowledgeNeurons\n",
    "from metrics import EM_compute, has_answer"
   ]
  },
  {
   "cell_type": "code",
   "execution_count": 2,
   "id": "81dd65ed-81c4-4c2c-abf9-79a3ac2c5347",
   "metadata": {},
   "outputs": [
    {
     "data": {
      "application/vnd.jupyter.widget-view+json": {
       "model_id": "16fb7f5e66db4d3abd732e0500631a30",
       "version_major": 2,
       "version_minor": 0
      },
      "text/plain": [
       "Loading checkpoint shards:   0%|          | 0/4 [00:00<?, ?it/s]"
      ]
     },
     "metadata": {},
     "output_type": "display_data"
    },
    {
     "data": {
      "text/plain": [
       "LlamaForCausalLM(\n",
       "  (model): LlamaModel(\n",
       "    (embed_tokens): Embedding(128256, 4096)\n",
       "    (layers): ModuleList(\n",
       "      (0-31): 32 x LlamaDecoderLayer(\n",
       "        (self_attn): LlamaSdpaAttention(\n",
       "          (q_proj): Linear(in_features=4096, out_features=4096, bias=False)\n",
       "          (k_proj): Linear(in_features=4096, out_features=1024, bias=False)\n",
       "          (v_proj): Linear(in_features=4096, out_features=1024, bias=False)\n",
       "          (o_proj): Linear(in_features=4096, out_features=4096, bias=False)\n",
       "          (rotary_emb): LlamaRotaryEmbedding()\n",
       "        )\n",
       "        (mlp): LlamaMLP(\n",
       "          (gate_proj): Linear(in_features=4096, out_features=14336, bias=False)\n",
       "          (up_proj): Linear(in_features=4096, out_features=14336, bias=False)\n",
       "          (down_proj): Linear(in_features=14336, out_features=4096, bias=False)\n",
       "          (act_fn): SiLU()\n",
       "        )\n",
       "        (input_layernorm): LlamaRMSNorm((4096,), eps=1e-05)\n",
       "        (post_attention_layernorm): LlamaRMSNorm((4096,), eps=1e-05)\n",
       "      )\n",
       "    )\n",
       "    (norm): LlamaRMSNorm((4096,), eps=1e-05)\n",
       "    (rotary_emb): LlamaRotaryEmbedding()\n",
       "  )\n",
       "  (lm_head): Linear(in_features=4096, out_features=128256, bias=False)\n",
       ")"
      ]
     },
     "execution_count": 2,
     "metadata": {},
     "output_type": "execute_result"
    }
   ],
   "source": [
    "ds = load_dataset(\"coastalcph/pararel_patterns\")['train'].select(range(1000)).to_pandas()\n",
    "tokenizer = AutoTokenizer.from_pretrained(\"/share/nlp/chitchat/models/Llama-3.1-8B-Instruct\")\n",
    "model = AutoModelForCausalLM.from_pretrained(\"/share/nlp/chitchat/models/Llama-3.1-8B-Instruct\")\n",
    "model.eval()\n",
    "device = \"cuda\" if torch.cuda.is_available() else \"cpu\"\n",
    "model.to(device)"
   ]
  },
  {
   "cell_type": "code",
   "execution_count": 3,
   "id": "e31e23f1-07bc-47eb-ac76-7199d157d1c3",
   "metadata": {},
   "outputs": [],
   "source": [
    "# ds.head()"
   ]
  },
  {
   "cell_type": "code",
   "execution_count": 4,
   "id": "5fb1ba9e-3a4e-48d8-a26e-f2a93ffc1f8c",
   "metadata": {},
   "outputs": [],
   "source": [
    "kn_finder = KnowledgeNeurons(model, tokenizer)\n",
    "layer_idx = 28\n",
    "adaptive_threshold = 0.3"
   ]
  },
  {
   "cell_type": "code",
   "execution_count": 5,
   "id": "92f3ff51-678c-4a3d-b257-be810eb8fe0c",
   "metadata": {},
   "outputs": [
    {
     "name": "stderr",
     "output_type": "stream",
     "text": [
      "100%|██████████| 1000/1000 [1:06:17<00:00,  3.98s/it]\n"
     ]
    }
   ],
   "source": [
    "neurons_counts = []\n",
    "answers = []\n",
    "\n",
    "for _, row in tqdm(ds.iterrows(), total=len(ds)):\n",
    "    ground_truth = row[\"object\"]\n",
    "    \n",
    "    original_prompt = tokenizer.apply_chat_template([\n",
    "        {\"role\": \"user\", \"content\": f\"Answer the question in one word: {row['query']}\"}, \n",
    "    ], tokenize=False, add_generation_prompt=True)\n",
    "\n",
    "    kn_orig, answer = kn_finder.get_coarse_neurons(\n",
    "        original_prompt, \n",
    "        ground_truth, \n",
    "        layer_idx=layer_idx, \n",
    "        adaptive_threshold=adaptive_threshold\n",
    "    )\n",
    "    neurons_counts.append(kn_orig)\n",
    "    answers.append(answer)\n",
    "ds['answer'] = answers\n",
    "ds['is_correct'] = (ds['object'] == ds['answer']).astype(int)\n",
    "ds['neurons_count'] = list(map(len, neurons_counts))\n",
    "ds['neurons'] = neurons_counts\n",
    "ds.to_csv('neurons_up_proj.csv')\n",
    "# ds = pd.read_csv('unique_targets_neurons.csv')\n",
    "# ds2 = pd.read_csv('neurons.csv')\n",
    "# ds3 = pd.read_csv('opera_neurons.csv')\n",
    "# ds = pd.concat([ds, ds2, ds3])"
   ]
  },
  {
   "cell_type": "code",
   "execution_count": 6,
   "id": "f70f2336-14a9-452d-bdfd-29b69a1b2919",
   "metadata": {},
   "outputs": [
    {
     "name": "stderr",
     "output_type": "stream",
     "text": [
      "100%|██████████| 932/932 [48:37<00:00,  3.13s/it]  \n"
     ]
    }
   ],
   "source": [
    "ds = load_dataset(\"coastalcph/pararel_patterns\")['train'].to_pandas()\n",
    "ds = ds[ds['object'].isin(['fruit', 'computer', 'software', 'opera', 'Dodge', 'physiology'])]\n",
    "neurons_counts = []\n",
    "answers = []\n",
    "\n",
    "for _, row in tqdm(ds.iterrows(), total=len(ds)):\n",
    "    ground_truth = row[\"object\"]\n",
    "    \n",
    "    original_prompt = tokenizer.apply_chat_template([\n",
    "        {\"role\": \"user\", \"content\": f\"Answer the question in one word: {row['query']}\"}, \n",
    "    ], tokenize=False, add_generation_prompt=True)\n",
    "\n",
    "    kn_orig, answer = kn_finder.get_coarse_neurons(\n",
    "        original_prompt, \n",
    "        ground_truth, \n",
    "        layer_idx=layer_idx, \n",
    "        adaptive_threshold=adaptive_threshold\n",
    "    )\n",
    "    neurons_counts.append(kn_orig)\n",
    "    answers.append(answer)\n",
    "ds['answer'] = answers\n",
    "ds['is_correct'] = (ds['object'] == ds['answer']).astype(int)\n",
    "ds['neurons_count'] = list(map(len, neurons_counts))\n",
    "ds['neurons'] = neurons_counts\n",
    "ds.to_csv('opera_neurons_up_proj.csv')"
   ]
  },
  {
   "cell_type": "code",
   "execution_count": 7,
   "id": "b2c9adb3-5445-490e-a747-8ff436ffd944",
   "metadata": {},
   "outputs": [
    {
     "name": "stderr",
     "output_type": "stream",
     "text": [
      "100%|██████████| 1847/1847 [1:39:59<00:00,  3.25s/it]\n"
     ]
    }
   ],
   "source": [
    "ds = load_dataset(\"coastalcph/pararel_patterns\")['train'].to_pandas()\n",
    "ds = ds.drop_duplicates(subset='object')\n",
    "neurons_counts = []\n",
    "answers = []\n",
    "\n",
    "for _, row in tqdm(ds.iterrows(), total=len(ds)):\n",
    "    ground_truth = row[\"object\"]\n",
    "    \n",
    "    original_prompt = tokenizer.apply_chat_template([\n",
    "        {\"role\": \"user\", \"content\": f\"Answer the question in one word: {row['query']}\"}, \n",
    "    ], tokenize=False, add_generation_prompt=True)\n",
    "\n",
    "    kn_orig, answer = kn_finder.get_coarse_neurons(\n",
    "        original_prompt, \n",
    "        ground_truth, \n",
    "        layer_idx=layer_idx, \n",
    "        adaptive_threshold=adaptive_threshold\n",
    "    )\n",
    "    neurons_counts.append(kn_orig)\n",
    "    answers.append(answer)\n",
    "ds['answer'] = answers\n",
    "ds['is_correct'] = (ds['object'] == ds['answer']).astype(int)\n",
    "ds['neurons_count'] = list(map(len, neurons_counts))\n",
    "ds['neurons'] = neurons_counts\n",
    "ds.to_csv('unique_targets_neurons_up_proj.csv')"
   ]
  },
  {
   "cell_type": "code",
   "execution_count": 13,
   "id": "6ecf3ffb-b840-418e-8d97-e68d815ee0ad",
   "metadata": {},
   "outputs": [
    {
     "data": {
      "text/plain": [
       "is_correct\n",
       "0    2907\n",
       "1     872\n",
       "Name: count, dtype: int64"
      ]
     },
     "execution_count": 13,
     "metadata": {},
     "output_type": "execute_result"
    }
   ],
   "source": [
    "ds['is_correct'].value_counts()"
   ]
  },
  {
   "cell_type": "code",
   "execution_count": 27,
   "id": "9ed0b23f-2fc2-4b00-b738-7fa1c9fbc2d9",
   "metadata": {},
   "outputs": [],
   "source": [
    "# ds['answer'] = answers\n",
    "# ds['is_correct'] = (ds['object'] == ds['answer']).astype(int)\n",
    "# ds['neurons_count'] = list(map(len, neurons_counts))\n",
    "# ds['neurons'] = neurons_counts"
   ]
  },
  {
   "cell_type": "code",
   "execution_count": 28,
   "id": "6be187f1-89d7-467b-9e7a-6f4f8902ba73",
   "metadata": {},
   "outputs": [],
   "source": [
    "# ds.to_csv('unique_targets_neurons.csv', index=False)"
   ]
  },
  {
   "cell_type": "code",
   "execution_count": 29,
   "id": "d007ba8a-d61c-4b91-b91a-0dd59c15d3bd",
   "metadata": {},
   "outputs": [],
   "source": [
    "# from collections import Counter\n",
    "# import matplotlib.pyplot as plt\n",
    "\n",
    "# unique_objects = ds[\"object\"].unique()\n",
    "\n",
    "# results = {}\n",
    "# for obj in unique_objects:\n",
    "#     subset = ds[ds[\"object\"] == obj]\n",
    "    \n",
    "#     all_neurons = []\n",
    "#     for neurons_list in subset[\"neurons\"]:\n",
    "#         all_neurons.extend(neurons_list)\n",
    "    \n",
    "#     counter = Counter(all_neurons)\n",
    "#     top_neurons = counter.most_common(10)\n",
    "#     results[obj] = top_neurons\n",
    "    \n",
    "#     if top_neurons:\n",
    "#         labels, counts = zip(*top_neurons)\n",
    "#         plt.figure(figsize=(8, 4))\n",
    "#         plt.bar([str(label) for label in labels], counts, color=\"skyblue\")\n",
    "#         plt.title(f\"Top 10 neurons for target: {obj} (shape: {subset.shape[0]})\")\n",
    "#         plt.xlabel(\"Neuron index\")\n",
    "#         plt.ylabel(\"Frequency\")\n",
    "#         plt.show()"
   ]
  },
  {
   "cell_type": "code",
   "execution_count": 12,
   "id": "92f41c24-2c27-4647-b22e-b6bdb94efafa",
   "metadata": {},
   "outputs": [],
   "source": [
    "ds = pd.read_csv('unique_targets_neurons.csv')\n",
    "ds2 = pd.read_csv('neurons.csv')\n",
    "ds3 = pd.read_csv('opera_neurons.csv')\n",
    "ds = pd.concat([ds, ds2, ds3])\n",
    "ds['is_correct'] = ds.apply(lambda row: has_answer([row['object']], row['answer']), axis=1)"
   ]
  },
  {
   "cell_type": "code",
   "execution_count": 13,
   "id": "c9568121-21fb-4e3f-bf4f-afc7204e4345",
   "metadata": {},
   "outputs": [
    {
     "name": "stderr",
     "output_type": "stream",
     "text": [
      "/tmp/ipykernel_3027883/2447594694.py:1: FutureWarning: \n",
      "\n",
      "Passing `palette` without assigning `hue` is deprecated and will be removed in v0.14.0. Assign the `x` variable to `hue` and set `legend=False` for the same effect.\n",
      "\n",
      "  sns.boxplot(x=\"is_correct\", y=\"neurons_count\", data=ds, palette=\"Set2\")\n"
     ]
    },
    {
     "data": {
      "image/png": "[encoded data removed]",
      "text/plain": [
       "<Figure size 640x480 with 1 Axes>"
      ]
     },
     "metadata": {},
     "output_type": "display_data"
    }
   ],
   "source": [
    "sns.boxplot(x=\"is_correct\", y=\"neurons_count\", data=ds, palette=\"Set2\")\n",
    "plt.title(\"Distribution of Knowledge Neurons Count by Target and Answer Correctness\")\n",
    "plt.xlabel(\"Target\")\n",
    "plt.ylabel(\"Knowledge Neurons Count\")\n",
    "plt.xticks(rotation=45)\n",
    "plt.show()"
   ]
  },
  {
   "cell_type": "code",
   "execution_count": 14,
   "id": "1fb834cd-91d8-4400-a699-eb38d26bb86d",
   "metadata": {},
   "outputs": [
    {
     "data": {
      "text/plain": [
       "<Axes: xlabel='neurons_count', ylabel='Count'>"
      ]
     },
     "execution_count": 14,
     "metadata": {},
     "output_type": "execute_result"
    },
    {
     "data": {
      "image/png": "[encoded data removed]",
      "text/plain": [
       "<Figure size 640x480 with 1 Axes>"
      ]
     },
     "metadata": {},
     "output_type": "display_data"
    }
   ],
   "source": [
    "sns.histplot(ds['neurons_count'])"
   ]
  },
  {
   "cell_type": "code",
   "execution_count": 15,
   "id": "471c0bf1-125d-47df-9802-cb361cdf018a",
   "metadata": {},
   "outputs": [
    {
     "data": {
      "text/plain": [
       "-0.10470913909403073"
      ]
     },
     "execution_count": 15,
     "metadata": {},
     "output_type": "execute_result"
    }
   ],
   "source": [
    "corr = ds['is_correct'].corr(ds['neurons_count'], method='spearman')\n",
    "corr"
   ]
  },
  {
   "cell_type": "code",
   "execution_count": 6,
   "id": "c3f89699-113a-4562-936c-f400dad85661",
   "metadata": {},
   "outputs": [],
   "source": [
    "# system = \"\"\"\n",
    "# Rephrase query with structure: Object, relation. \n",
    "# For example: \n",
    "# [X] is located in\n",
    "# [X] owner\n",
    "# Avoid any comments. Write only rephrased query. Do not repeat the original query.\n",
    "# \"\"\"\n",
    "\n",
    "# def rephrase_query(original_query: str) -> str:\n",
    "#     prompt = f\"Rephrase the following question in a similar style: '{original_query}'\"\n",
    "#     prompt = tokenizer.apply_chat_template([\n",
    "#         {\"role\": \"user\", \"content\": prompt}, \n",
    "#         {\"role\": \"system\", \"content\": system}\n",
    "#     ], \n",
    "#         tokenize=False, add_generation_prompt=True\n",
    "#     )\n",
    "#     inputs = tokenizer.encode(prompt, return_tensors=\"pt\").to(device)\n",
    "#     outputs = model.generate(inputs, max_new_tokens=20)\n",
    "#     rephrased = tokenizer.decode(outputs[0], skip_special_tokens=True)\n",
    "\n",
    "#     match = re.search(r'assistant\\n\\n(.*)', rephrased, re.DOTALL)\n",
    "#     rephrased = match.group(1).strip() if match else original_query\n",
    "#     return rephrased.strip()\n",
    "\n",
    "# # Niger is located in -> Niger is situated in\n",
    "# # Pershing Center owner -> Centennial Park Stadium is owned by"
   ]
  },
  {
   "cell_type": "code",
   "execution_count": 6,
   "id": "20eb0abc-9fe6-49f3-a455-ffba0a6c6fd7",
   "metadata": {},
   "outputs": [],
   "source": [
    "# knowledge_flags = []\n",
    "# answer_flags = [] \n",
    "\n",
    "# for _, row in ds.iterrows():\n",
    "#     ground_truth = row[\"object\"]\n",
    "    \n",
    "#     original_prompt = tokenizer.apply_chat_template([\n",
    "#         {\"role\": \"user\", \"content\": f\"Answer the question in one word: {row['query']}\"}, \n",
    "#     ], tokenize=False, add_generation_prompt=True)\n",
    "\n",
    "#     rephrased_prompt = tokenizer.apply_chat_template([\n",
    "#         {\"role\": \"user\", \"content\": f\"Answer the question in one word: {rephrase_query(row['query'])}\"}, \n",
    "#     ], tokenize=False, add_generation_prompt=True)\n",
    "    \n",
    "#     kn_orig, answer = kn_finder.get_coarse_neurons(\n",
    "#         original_prompt, \n",
    "#         ground_truth, \n",
    "#         layer_idx=layer_idx, \n",
    "#         adaptive_threshold=adaptive_threshold\n",
    "#     )\n",
    "\n",
    "#     kn_rephrased, rephrased_answer = kn_finder.get_coarse_neurons(\n",
    "#         rephrased_prompt, \n",
    "#         ground_truth, \n",
    "#         layer_idx=layer_idx, \n",
    "#         adaptive_threshold=adaptive_threshold\n",
    "#     )\n",
    "#     print('here')\n",
    "#     print(kn_orig)\n",
    "#     print(kn_rephrased)\n",
    "#     common_kn = set(kn_orig).intersection(set(kn_rephrased))\n",
    "#     knowledge_flag = 1 if len(common_kn) >= 2 else 0\n",
    "#     knowledge_flags.append(knowledge_flag)\n",
    "    \n",
    "#     print(ground_truth)\n",
    "#     print(answer)\n",
    "#     answer_flag = 1 if EM_compute([ground_truth], answer) else 0\n",
    "#     answer_flags.append(answer_flag)"
   ]
  },
  {
   "cell_type": "code",
   "execution_count": null,
   "id": "3615d088-ae01-4a67-bf2e-99456fc3c7b0",
   "metadata": {},
   "outputs": [],
   "source": []
  }
 ],
 "metadata": {
  "kernelspec": {
   "display_name": "Python 3 (ipykernel)",
   "language": "python",
   "name": "python3"
  },
  "language_info": {
   "codemirror_mode": {
    "name": "ipython",
    "version": 3
   },
   "file_extension": ".py",
   "mimetype": "text/x-python",
   "name": "python",
   "nbconvert_exporter": "python",
   "pygments_lexer": "ipython3",
   "version": "3.10.13"
  }
 },
 "nbformat": 4,
 "nbformat_minor": 5
}
