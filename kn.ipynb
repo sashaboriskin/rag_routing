{
 "cells": [
  {
   "cell_type": "code",
   "execution_count": 1,
   "id": "6aa503e9-fc62-4239-b6e2-6187cabd1864",
   "metadata": {},
   "outputs": [],
   "source": [
    "import re\n",
    "\n",
    "import torch\n",
    "import pandas as pd\n",
    "from tqdm import tqdm\n",
    "from transformers import AutoTokenizer, AutoModelForCausalLM\n",
    "from datasets import load_dataset\n",
    "\n",
    "from kn import KnowledgeNeurons\n",
    "from metrics import EM_compute"
   ]
  },
  {
   "cell_type": "code",
   "execution_count": 2,
   "id": "81dd65ed-81c4-4c2c-abf9-79a3ac2c5347",
   "metadata": {
    "collapsed": true,
    "jupyter": {
     "outputs_hidden": true
    }
   },
   "outputs": [
    {
     "data": {
      "application/vnd.jupyter.widget-view+json": {
       "model_id": "f7ed9433ba9f4f1bb07df419a8466ec5",
       "version_major": 2,
       "version_minor": 0
      },
      "text/plain": [
       "Loading checkpoint shards:   0%|          | 0/4 [00:00<?, ?it/s]"
      ]
     },
     "metadata": {},
     "output_type": "display_data"
    },
    {
     "data": {
      "text/plain": [
       "LlamaForCausalLM(\n",
       "  (model): LlamaModel(\n",
       "    (embed_tokens): Embedding(128256, 4096)\n",
       "    (layers): ModuleList(\n",
       "      (0-31): 32 x LlamaDecoderLayer(\n",
       "        (self_attn): LlamaSdpaAttention(\n",
       "          (q_proj): Linear(in_features=4096, out_features=4096, bias=False)\n",
       "          (k_proj): Linear(in_features=4096, out_features=1024, bias=False)\n",
       "          (v_proj): Linear(in_features=4096, out_features=1024, bias=False)\n",
       "          (o_proj): Linear(in_features=4096, out_features=4096, bias=False)\n",
       "          (rotary_emb): LlamaRotaryEmbedding()\n",
       "        )\n",
       "        (mlp): LlamaMLP(\n",
       "          (gate_proj): Linear(in_features=4096, out_features=14336, bias=False)\n",
       "          (up_proj): Linear(in_features=4096, out_features=14336, bias=False)\n",
       "          (down_proj): Linear(in_features=14336, out_features=4096, bias=False)\n",
       "          (act_fn): SiLU()\n",
       "        )\n",
       "        (input_layernorm): LlamaRMSNorm((4096,), eps=1e-05)\n",
       "        (post_attention_layernorm): LlamaRMSNorm((4096,), eps=1e-05)\n",
       "      )\n",
       "    )\n",
       "    (norm): LlamaRMSNorm((4096,), eps=1e-05)\n",
       "    (rotary_emb): LlamaRotaryEmbedding()\n",
       "  )\n",
       "  (lm_head): Linear(in_features=4096, out_features=128256, bias=False)\n",
       ")"
      ]
     },
     "execution_count": 2,
     "metadata": {},
     "output_type": "execute_result"
    }
   ],
   "source": [
    "ds = load_dataset(\"coastalcph/pararel_patterns\")['train'].select(range(1000)).to_pandas()\n",
    "tokenizer = AutoTokenizer.from_pretrained(\"/share/nlp/chitchat/models/Llama-3.1-8B-Instruct\")\n",
    "model = AutoModelForCausalLM.from_pretrained(\"/share/nlp/chitchat/models/Llama-3.1-8B-Instruct\")\n",
    "model.eval()\n",
    "device = \"cuda\" if torch.cuda.is_available() else \"cpu\"\n",
    "model.to(device)"
   ]
  },
  {
   "cell_type": "code",
   "execution_count": 3,
   "id": "dd774596-2d29-402b-81e0-394d74d8193e",
   "metadata": {},
   "outputs": [
    {
     "data": {
      "text/html": [
       "<div>\n",
       "<style scoped>\n",
       "    .dataframe tbody tr th:only-of-type {\n",
       "        vertical-align: middle;\n",
       "    }\n",
       "\n",
       "    .dataframe tbody tr th {\n",
       "        vertical-align: top;\n",
       "    }\n",
       "\n",
       "    .dataframe thead th {\n",
       "        text-align: right;\n",
       "    }\n",
       "</style>\n",
       "<table border=\"1\" class=\"dataframe\">\n",
       "  <thead>\n",
       "    <tr style=\"text-align: right;\">\n",
       "      <th></th>\n",
       "      <th>relation</th>\n",
       "      <th>query</th>\n",
       "      <th>subject</th>\n",
       "      <th>object</th>\n",
       "      <th>template</th>\n",
       "      <th>template_index</th>\n",
       "      <th>candidates</th>\n",
       "    </tr>\n",
       "  </thead>\n",
       "  <tbody>\n",
       "    <tr>\n",
       "      <th>531</th>\n",
       "      <td>P30.jsonl</td>\n",
       "      <td>Rutford Ice Stream is located in</td>\n",
       "      <td>Rutford Ice Stream</td>\n",
       "      <td>Antarctica</td>\n",
       "      <td>[X] is located in [Y].</td>\n",
       "      <td>0</td>\n",
       "      <td>[Insular Oceania, Americas, Europe, Antarctica...</td>\n",
       "    </tr>\n",
       "    <tr>\n",
       "      <th>233</th>\n",
       "      <td>P30.jsonl</td>\n",
       "      <td>England is located in</td>\n",
       "      <td>England</td>\n",
       "      <td>Europe</td>\n",
       "      <td>[X] is located in [Y].</td>\n",
       "      <td>0</td>\n",
       "      <td>[Insular Oceania, Americas, Europe, Antarctica...</td>\n",
       "    </tr>\n",
       "    <tr>\n",
       "      <th>362</th>\n",
       "      <td>P30.jsonl</td>\n",
       "      <td>Cobham Range is located in</td>\n",
       "      <td>Cobham Range</td>\n",
       "      <td>Antarctica</td>\n",
       "      <td>[X] is located in [Y].</td>\n",
       "      <td>0</td>\n",
       "      <td>[Insular Oceania, Americas, Europe, Antarctica...</td>\n",
       "    </tr>\n",
       "    <tr>\n",
       "      <th>815</th>\n",
       "      <td>P30.jsonl</td>\n",
       "      <td>Auckland is located in</td>\n",
       "      <td>Auckland</td>\n",
       "      <td>Insular Oceania</td>\n",
       "      <td>[X] is located in [Y].</td>\n",
       "      <td>0</td>\n",
       "      <td>[Insular Oceania, Americas, Europe, Antarctica...</td>\n",
       "    </tr>\n",
       "    <tr>\n",
       "      <th>248</th>\n",
       "      <td>P30.jsonl</td>\n",
       "      <td>Kirkpatrick Glacier is located in</td>\n",
       "      <td>Kirkpatrick Glacier</td>\n",
       "      <td>Antarctica</td>\n",
       "      <td>[X] is located in [Y].</td>\n",
       "      <td>0</td>\n",
       "      <td>[Insular Oceania, Americas, Europe, Antarctica...</td>\n",
       "    </tr>\n",
       "  </tbody>\n",
       "</table>\n",
       "</div>"
      ],
      "text/plain": [
       "      relation                              query              subject  \\\n",
       "531  P30.jsonl   Rutford Ice Stream is located in   Rutford Ice Stream   \n",
       "233  P30.jsonl              England is located in              England   \n",
       "362  P30.jsonl         Cobham Range is located in         Cobham Range   \n",
       "815  P30.jsonl             Auckland is located in             Auckland   \n",
       "248  P30.jsonl  Kirkpatrick Glacier is located in  Kirkpatrick Glacier   \n",
       "\n",
       "              object                template  template_index  \\\n",
       "531       Antarctica  [X] is located in [Y].               0   \n",
       "233           Europe  [X] is located in [Y].               0   \n",
       "362       Antarctica  [X] is located in [Y].               0   \n",
       "815  Insular Oceania  [X] is located in [Y].               0   \n",
       "248       Antarctica  [X] is located in [Y].               0   \n",
       "\n",
       "                                            candidates  \n",
       "531  [Insular Oceania, Americas, Europe, Antarctica...  \n",
       "233  [Insular Oceania, Americas, Europe, Antarctica...  \n",
       "362  [Insular Oceania, Americas, Europe, Antarctica...  \n",
       "815  [Insular Oceania, Americas, Europe, Antarctica...  \n",
       "248  [Insular Oceania, Americas, Europe, Antarctica...  "
      ]
     },
     "execution_count": 3,
     "metadata": {},
     "output_type": "execute_result"
    }
   ],
   "source": [
    "ds.sample(5)"
   ]
  },
  {
   "cell_type": "code",
   "execution_count": 4,
   "id": "5fb1ba9e-3a4e-48d8-a26e-f2a93ffc1f8c",
   "metadata": {},
   "outputs": [],
   "source": [
    "kn_finder = KnowledgeNeurons(model, tokenizer)\n",
    "layer_idx = 28\n",
    "adaptive_threshold = 0.3"
   ]
  },
  {
   "cell_type": "code",
   "execution_count": 5,
   "id": "92f3ff51-678c-4a3d-b257-be810eb8fe0c",
   "metadata": {},
   "outputs": [
    {
     "name": "stderr",
     "output_type": "stream",
     "text": [
      "100%|██████████| 1000/1000 [1:06:27<00:00,  3.99s/it]\n"
     ]
    }
   ],
   "source": [
    "neurons_counts = []\n",
    "answers = []\n",
    "\n",
    "for _, row in tqdm(ds.iterrows(), total=len(ds)):\n",
    "    ground_truth = row[\"object\"]\n",
    "    \n",
    "    original_prompt = tokenizer.apply_chat_template([\n",
    "        {\"role\": \"user\", \"content\": f\"Answer the question in one word: {row['query']}\"}, \n",
    "    ], tokenize=False, add_generation_prompt=True)\n",
    "\n",
    "    kn_orig, answer = kn_finder.get_coarse_neurons(\n",
    "        original_prompt, \n",
    "        ground_truth, \n",
    "        layer_idx=layer_idx, \n",
    "        adaptive_threshold=adaptive_threshold\n",
    "    )\n",
    "    neurons_counts.append(kn_orig)\n",
    "    answers.append(answer)"
   ]
  },
  {
   "cell_type": "code",
   "execution_count": 11,
   "id": "3ab93e7d-7f2b-491f-b5f7-a8c5da9f4ec5",
   "metadata": {},
   "outputs": [
    {
     "data": {
      "text/plain": [
       "object\n",
       "Antarctica         730\n",
       "Europe             115\n",
       "Asia                80\n",
       "Africa              55\n",
       "Insular Oceania     16\n",
       "Americas             4\n",
       "Name: count, dtype: int64"
      ]
     },
     "execution_count": 11,
     "metadata": {},
     "output_type": "execute_result"
    }
   ],
   "source": [
    "ds['object'].value_counts()"
   ]
  },
  {
   "cell_type": "code",
   "execution_count": 24,
   "id": "9ed0b23f-2fc2-4b00-b738-7fa1c9fbc2d9",
   "metadata": {},
   "outputs": [],
   "source": [
    "ds['answer'] = answers\n",
    "ds['is_correct'] = (ds['object'] == ds['answer']).astype(int)\n",
    "ds['neurons_count'] = list(map(len, neurons_counts))"
   ]
  },
  {
   "cell_type": "code",
   "execution_count": 37,
   "id": "86fb6865-caba-43c2-ad8c-495aef6ed091",
   "metadata": {},
   "outputs": [
    {
     "data": {
      "text/plain": [
       "is_correct\n",
       "0    672\n",
       "1    328\n",
       "Name: count, dtype: int64"
      ]
     },
     "execution_count": 37,
     "metadata": {},
     "output_type": "execute_result"
    }
   ],
   "source": [
    "ds['is_correct'].value_counts()"
   ]
  },
  {
   "cell_type": "code",
   "execution_count": 43,
   "id": "04a07310-cb06-4961-9ff8-dc1e6395b3ae",
   "metadata": {},
   "outputs": [
    {
     "data": {
      "image/png": "[encoded data removed]",
      "text/plain": [
       "<Figure size 800x600 with 1 Axes>"
      ]
     },
     "metadata": {},
     "output_type": "display_data"
    }
   ],
   "source": [
    "df = ds.copy()\n",
    "df[\"correct\"] = df[\"is_correct\"].apply(lambda x: \"Correct\" if x == 1 else \"Incorrect\")\n",
    "\n",
    "plt.figure(figsize=(8,6))\n",
    "sns.boxplot(x=\"object\", y=\"neurons_count\", hue=\"correct\", data=df, palette=\"Set2\")\n",
    "plt.title(\"Distribution of Knowledge Neurons Count by Target and Answer Correctness\")\n",
    "plt.xlabel(\"Target\")\n",
    "plt.ylabel(\"Knowledge Neurons Count\")\n",
    "plt.xticks(rotation=45)\n",
    "plt.legend(title=\"Answer Correctness\")\n",
    "plt.show()"
   ]
  },
  {
   "cell_type": "code",
   "execution_count": 44,
   "id": "1fb834cd-91d8-4400-a699-eb38d26bb86d",
   "metadata": {},
   "outputs": [
    {
     "data": {
      "text/plain": [
       "<Axes: xlabel='neurons_count', ylabel='Count'>"
      ]
     },
     "execution_count": 44,
     "metadata": {},
     "output_type": "execute_result"
    },
    {
     "data": {
      "image/png": "[encoded data removed]",
      "text/plain": [
       "<Figure size 640x480 with 1 Axes>"
      ]
     },
     "metadata": {},
     "output_type": "display_data"
    }
   ],
   "source": [
    "sns.histplot(df['neurons_count'])"
   ]
  },
  {
   "cell_type": "code",
   "execution_count": 41,
   "id": "471c0bf1-125d-47df-9802-cb361cdf018a",
   "metadata": {},
   "outputs": [
    {
     "data": {
      "text/plain": [
       "0.1750344750883532"
      ]
     },
     "execution_count": 41,
     "metadata": {},
     "output_type": "execute_result"
    }
   ],
   "source": [
    "corr = df['is_correct'].corr(df['neurons_count'], method='spearman')\n",
    "corr"
   ]
  },
  {
   "cell_type": "code",
   "execution_count": 6,
   "id": "c3f89699-113a-4562-936c-f400dad85661",
   "metadata": {},
   "outputs": [],
   "source": [
    "# system = \"\"\"\n",
    "# Rephrase query with structure: Object, relation. \n",
    "# For example: \n",
    "# [X] is located in\n",
    "# [X] owner\n",
    "# Avoid any comments. Write only rephrased query. Do not repeat the original query.\n",
    "# \"\"\"\n",
    "\n",
    "# def rephrase_query(original_query: str) -> str:\n",
    "#     prompt = f\"Rephrase the following question in a similar style: '{original_query}'\"\n",
    "#     prompt = tokenizer.apply_chat_template([\n",
    "#         {\"role\": \"user\", \"content\": prompt}, \n",
    "#         {\"role\": \"system\", \"content\": system}\n",
    "#     ], \n",
    "#         tokenize=False, add_generation_prompt=True\n",
    "#     )\n",
    "#     inputs = tokenizer.encode(prompt, return_tensors=\"pt\").to(device)\n",
    "#     outputs = model.generate(inputs, max_new_tokens=20)\n",
    "#     rephrased = tokenizer.decode(outputs[0], skip_special_tokens=True)\n",
    "\n",
    "#     match = re.search(r'assistant\\n\\n(.*)', rephrased, re.DOTALL)\n",
    "#     rephrased = match.group(1).strip() if match else original_query\n",
    "#     return rephrased.strip()\n",
    "\n",
    "# # Niger is located in -> Niger is situated in\n",
    "# # Pershing Center owner -> Centennial Park Stadium is owned by"
   ]
  },
  {
   "cell_type": "code",
   "execution_count": 6,
   "id": "20eb0abc-9fe6-49f3-a455-ffba0a6c6fd7",
   "metadata": {},
   "outputs": [],
   "source": [
    "# knowledge_flags = []\n",
    "# answer_flags = [] \n",
    "\n",
    "# for _, row in ds.iterrows():\n",
    "#     ground_truth = row[\"object\"]\n",
    "    \n",
    "#     original_prompt = tokenizer.apply_chat_template([\n",
    "#         {\"role\": \"user\", \"content\": f\"Answer the question in one word: {row['query']}\"}, \n",
    "#     ], tokenize=False, add_generation_prompt=True)\n",
    "\n",
    "#     rephrased_prompt = tokenizer.apply_chat_template([\n",
    "#         {\"role\": \"user\", \"content\": f\"Answer the question in one word: {rephrase_query(row['query'])}\"}, \n",
    "#     ], tokenize=False, add_generation_prompt=True)\n",
    "    \n",
    "#     kn_orig, answer = kn_finder.get_coarse_neurons(\n",
    "#         original_prompt, \n",
    "#         ground_truth, \n",
    "#         layer_idx=layer_idx, \n",
    "#         adaptive_threshold=adaptive_threshold\n",
    "#     )\n",
    "\n",
    "#     kn_rephrased, rephrased_answer = kn_finder.get_coarse_neurons(\n",
    "#         rephrased_prompt, \n",
    "#         ground_truth, \n",
    "#         layer_idx=layer_idx, \n",
    "#         adaptive_threshold=adaptive_threshold\n",
    "#     )\n",
    "#     print('here')\n",
    "#     print(kn_orig)\n",
    "#     print(kn_rephrased)\n",
    "#     common_kn = set(kn_orig).intersection(set(kn_rephrased))\n",
    "#     knowledge_flag = 1 if len(common_kn) >= 2 else 0\n",
    "#     knowledge_flags.append(knowledge_flag)\n",
    "    \n",
    "#     print(ground_truth)\n",
    "#     print(answer)\n",
    "#     answer_flag = 1 if EM_compute([ground_truth], answer) else 0\n",
    "#     answer_flags.append(answer_flag)"
   ]
  },
  {
   "cell_type": "code",
   "execution_count": null,
   "id": "3615d088-ae01-4a67-bf2e-99456fc3c7b0",
   "metadata": {},
   "outputs": [],
   "source": []
  }
 ],
 "metadata": {
  "kernelspec": {
   "display_name": "Python 3 (ipykernel)",
   "language": "python",
   "name": "python3"
  },
  "language_info": {
   "codemirror_mode": {
    "name": "ipython",
    "version": 3
   },
   "file_extension": ".py",
   "mimetype": "text/x-python",
   "name": "python",
   "nbconvert_exporter": "python",
   "pygments_lexer": "ipython3",
   "version": "3.10.13"
  }
 },
 "nbformat": 4,
 "nbformat_minor": 5
}
