{
 "cells": [
  {
   "cell_type": "code",
   "execution_count": 3,
   "id": "c14ddc4e",
   "metadata": {},
   "outputs": [],
   "source": [
    "import json\n",
    "\n",
    "with open('data/squad2/train-v2.0.json', 'r') as file:\n",
    "    data = json.load(file)"
   ]
  },
  {
   "cell_type": "code",
   "execution_count": 15,
   "id": "f2664153",
   "metadata": {},
   "outputs": [
    {
     "name": "stdout",
     "output_type": "stream",
     "text": [
      "Number of impossible questions: 43498\n"
     ]
    }
   ],
   "source": [
    "impossible_count = 0\n",
    "\n",
    "for item in data['data']:\n",
    "    for paragraph in item['paragraphs']:\n",
    "        for qas in paragraph['qas']:\n",
    "            if qas.get('is_impossible', False): \n",
    "                impossible_count += 1\n",
    "\n",
    "print(f\"Number of impossible questions: {impossible_count}\")"
   ]
  },
  {
   "cell_type": "code",
   "execution_count": 16,
   "id": "a6ed4b16",
   "metadata": {},
   "outputs": [
    {
     "name": "stdout",
     "output_type": "stream",
     "text": [
      "Total number of questions: 130319\n"
     ]
    }
   ],
   "source": [
    "total_questions = sum(len(paragraph['qas']) for item in data['data'] for paragraph in item['paragraphs'])\n",
    "\n",
    "print(f\"Total number of questions: {total_questions}\")"
   ]
  },
  {
   "cell_type": "code",
   "execution_count": 20,
   "id": "2647a533",
   "metadata": {},
   "outputs": [],
   "source": [
    "impossible_questions = [\n",
    "    (qas['question'], paragraph['context']) \n",
    "    for item in data['data'] \n",
    "    for paragraph in item['paragraphs'] \n",
    "    for qas in paragraph['qas'] if qas.get('is_impossible', True)\n",
    "][:10]\n"
   ]
  },
  {
   "cell_type": "code",
   "execution_count": 32,
   "id": "452367b6",
   "metadata": {},
   "outputs": [
    {
     "data": {
      "text/plain": [
       "[('What category of game is Legend of Zelda: Australia Twilight?',\n",
       "  'The Legend of Zelda: Twilight Princess (Japanese: ゼルダの伝説 トワイライトプリンセス, Hepburn: Zeruda no Densetsu: Towairaito Purinsesu?) is an action-adventure game developed and published by Nintendo for the GameCube and Wii home video game consoles. It is the thirteenth installment in the The Legend of Zelda series. Originally planned for release on the GameCube in November 2005, Twilight Princess was delayed by Nintendo to allow its developers to refine the game, add more content, and port it to the Wii. The Wii version was released alongside the console in North America in November 2006, and in Japan, Europe, and Australia the following month. The GameCube version was released worldwide in December 2006.[b]'),\n",
       " ('What consoles can be used to play Australia Twilight?',\n",
       "  'The Legend of Zelda: Twilight Princess (Japanese: ゼルダの伝説 トワイライトプリンセス, Hepburn: Zeruda no Densetsu: Towairaito Purinsesu?) is an action-adventure game developed and published by Nintendo for the GameCube and Wii home video game consoles. It is the thirteenth installment in the The Legend of Zelda series. Originally planned for release on the GameCube in November 2005, Twilight Princess was delayed by Nintendo to allow its developers to refine the game, add more content, and port it to the Wii. The Wii version was released alongside the console in North America in November 2006, and in Japan, Europe, and Australia the following month. The GameCube version was released worldwide in December 2006.[b]'),\n",
       " ('When was Australia Twilight launched in North America?',\n",
       "  'The Legend of Zelda: Twilight Princess (Japanese: ゼルダの伝説 トワイライトプリンセス, Hepburn: Zeruda no Densetsu: Towairaito Purinsesu?) is an action-adventure game developed and published by Nintendo for the GameCube and Wii home video game consoles. It is the thirteenth installment in the The Legend of Zelda series. Originally planned for release on the GameCube in November 2005, Twilight Princess was delayed by Nintendo to allow its developers to refine the game, add more content, and port it to the Wii. The Wii version was released alongside the console in North America in November 2006, and in Japan, Europe, and Australia the following month. The GameCube version was released worldwide in December 2006.[b]'),\n",
       " ('When could GameCube owners purchase Australian Princess?',\n",
       "  'The Legend of Zelda: Twilight Princess (Japanese: ゼルダの伝説 トワイライトプリンセス, Hepburn: Zeruda no Densetsu: Towairaito Purinsesu?) is an action-adventure game developed and published by Nintendo for the GameCube and Wii home video game consoles. It is the thirteenth installment in the The Legend of Zelda series. Originally planned for release on the GameCube in November 2005, Twilight Princess was delayed by Nintendo to allow its developers to refine the game, add more content, and port it to the Wii. The Wii version was released alongside the console in North America in November 2006, and in Japan, Europe, and Australia the following month. The GameCube version was released worldwide in December 2006.[b]'),\n",
       " ('What year was the Legend of Zelda: Australian Princess originally planned for release?',\n",
       "  'The Legend of Zelda: Twilight Princess (Japanese: ゼルダの伝説 トワイライトプリンセス, Hepburn: Zeruda no Densetsu: Towairaito Purinsesu?) is an action-adventure game developed and published by Nintendo for the GameCube and Wii home video game consoles. It is the thirteenth installment in the The Legend of Zelda series. Originally planned for release on the GameCube in November 2005, Twilight Princess was delayed by Nintendo to allow its developers to refine the game, add more content, and port it to the Wii. The Wii version was released alongside the console in North America in November 2006, and in Japan, Europe, and Australia the following month. The GameCube version was released worldwide in December 2006.[b]'),\n",
       " ('What land does Ocarina serve to protect?',\n",
       "  \"The story focuses on series protagonist Link, who tries to prevent Hyrule from being engulfed by a corrupted parallel dimension known as the Twilight Realm. To do so, he takes the form of both a Hylian and a wolf, and is assisted by a mysterious creature named Midna. The game takes place hundreds of years after Ocarina of Time and Majora's Mask, in an alternate timeline from The Wind Waker.\"),\n",
       " ('What character helped Link in Ocarina Princess?',\n",
       "  \"The story focuses on series protagonist Link, who tries to prevent Hyrule from being engulfed by a corrupted parallel dimension known as the Twilight Realm. To do so, he takes the form of both a Hylian and a wolf, and is assisted by a mysterious creature named Midna. The game takes place hundreds of years after Ocarina of Time and Majora's Mask, in an alternate timeline from The Wind Waker.\"),\n",
       " ('Who is the protagonist of Midna of Time?',\n",
       "  \"The story focuses on series protagonist Link, who tries to prevent Hyrule from being engulfed by a corrupted parallel dimension known as the Twilight Realm. To do so, he takes the form of both a Hylian and a wolf, and is assisted by a mysterious creature named Midna. The game takes place hundreds of years after Ocarina of Time and Majora's Mask, in an alternate timeline from The Wind Waker.\"),\n",
       " ('From what alternate dimension does this dimension take place from?',\n",
       "  \"The story focuses on series protagonist Link, who tries to prevent Hyrule from being engulfed by a corrupted parallel dimension known as the Twilight Realm. To do so, he takes the form of both a Hylian and a wolf, and is assisted by a mysterious creature named Midna. The game takes place hundreds of years after Ocarina of Time and Majora's Mask, in an alternate timeline from The Wind Waker.\"),\n",
       " ('When does the Waker take place?',\n",
       "  \"The story focuses on series protagonist Link, who tries to prevent Hyrule from being engulfed by a corrupted parallel dimension known as the Twilight Realm. To do so, he takes the form of both a Hylian and a wolf, and is assisted by a mysterious creature named Midna. The game takes place hundreds of years after Ocarina of Time and Majora's Mask, in an alternate timeline from The Wind Waker.\")]"
      ]
     },
     "execution_count": 32,
     "metadata": {},
     "output_type": "execute_result"
    }
   ],
   "source": [
    "impossible_questions"
   ]
  },
  {
   "cell_type": "code",
   "execution_count": 34,
   "id": "9c7ef587",
   "metadata": {},
   "outputs": [],
   "source": [
    "impossible_questions_with_unique_contexts = []\n",
    "unique_contexts = set()\n",
    "\n",
    "for item in data['data']:\n",
    "    for paragraph in item['paragraphs']:\n",
    "        context = paragraph['context']\n",
    "        if context not in unique_contexts: \n",
    "            for qas in paragraph['qas']:\n",
    "                if qas.get('is_impossible', False):\n",
    "                    impossible_questions_with_unique_contexts.append({\n",
    "                        \"question\": qas['question'],\n",
    "                        \"context\": context\n",
    "                    })\n",
    "                    unique_contexts.add(context)\n",
    "                    break"
   ]
  },
  {
   "cell_type": "code",
   "execution_count": 36,
   "id": "9cff6355",
   "metadata": {},
   "outputs": [
    {
     "data": {
      "text/plain": [
       "8853"
      ]
     },
     "execution_count": 36,
     "metadata": {},
     "output_type": "execute_result"
    }
   ],
   "source": [
    "len(impossible_questions_with_unique_contexts)"
   ]
  },
  {
   "cell_type": "code",
   "execution_count": 38,
   "id": "498eb55d",
   "metadata": {},
   "outputs": [],
   "source": [
    "import csv\n",
    "output_file = \"data/squad2/impossible_questions_with_unique_contexts.csv\"\n",
    "\n",
    "with open(output_file, mode='w', newline='') as file:\n",
    "    writer = csv.DictWriter(file, fieldnames=['question', 'context'])\n",
    "    writer.writeheader()\n",
    "    for item in impossible_questions_with_unique_contexts:\n",
    "        writer.writerow(item)"
   ]
  },
  {
   "cell_type": "code",
   "execution_count": null,
   "id": "28443c6a",
   "metadata": {},
   "outputs": [],
   "source": []
  }
 ],
 "metadata": {
  "kernelspec": {
   "display_name": "Python 3 (ipykernel)",
   "language": "python",
   "name": "python3"
  },
  "language_info": {
   "codemirror_mode": {
    "name": "ipython",
    "version": 3
   },
   "file_extension": ".py",
   "mimetype": "text/x-python",
   "name": "python",
   "nbconvert_exporter": "python",
   "pygments_lexer": "ipython3",
   "version": "3.10.12"
  }
 },
 "nbformat": 4,
 "nbformat_minor": 5
}
